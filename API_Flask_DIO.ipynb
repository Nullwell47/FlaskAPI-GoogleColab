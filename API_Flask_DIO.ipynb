{
  "nbformat": 4,
  "nbformat_minor": 0,
  "metadata": {
    "colab": {
      "provenance": []
    },
    "kernelspec": {
      "name": "python3",
      "display_name": "Python 3"
    },
    "language_info": {
      "name": "python"
    }
  },
  "cells": [
    {
      "cell_type": "markdown",
      "metadata": {
        "id": "LCiCRRCU9ouH"
      },
      "source": [
        "Para instalar o pacote flask_ngrok, você pode utilizar o comando pip no seu ambiente Python. Execute o seguinte comando no terminal:\n"
      ]
    },
    {
      "cell_type": "code",
      "execution_count": null,
      "metadata": {
        "id": "2hXOwZw09b2S"
      },
      "outputs": [],
      "source": [
        "!pip install flask_ngrok"
      ]
    },
    {
      "cell_type": "markdown",
      "metadata": {
        "id": "a0aPHPv9-ULV"
      },
      "source": [
        "Vamos importar as bibliotecas que usaremos:"
      ]
    },
    {
      "cell_type": "code",
      "execution_count": 2,
      "metadata": {
        "id": "gd4BQZgY-Pod"
      },
      "outputs": [],
      "source": [
        "import pandas as pd\n",
        "from flask_ngrok import run_with_ngrok\n",
        "from flask import request, jsonify, Flask\n",
        "import random as rk"
      ]
    },
    {
      "cell_type": "markdown",
      "metadata": {
        "id": "tOnCSl4f-XgN"
      },
      "source": [
        "Criando uma instância do objeto Flask, que é a base dessa aplicação."
      ]
    },
    {
      "cell_type": "code",
      "execution_count": 3,
      "metadata": {
        "id": "rGXIGaaJ-eiY"
      },
      "outputs": [],
      "source": [
        "app = Flask(__name__) #the name of the application package\n",
        "run_with_ngrok(app)"
      ]
    },
    {
      "cell_type": "markdown",
      "metadata": {
        "id": "MEQWNUpk-gjX"
      },
      "source": [
        "Agora, vamos criar uma entrada para a API que estará na forma de um dicionário ou (JSON):"
      ]
    },
    {
      "cell_type": "code",
      "execution_count": 4,
      "metadata": {
        "id": "4tFgZzp--mUA"
      },
      "outputs": [],
      "source": [
        "d = {\n",
        "    \"name\": \"Nikola\",\n",
        "    \"surname\": \"Tesla\",\n",
        "    \"idade\": 60\n",
        "      }"
      ]
    },
    {
      "cell_type": "markdown",
      "metadata": {
        "id": "U7TgNyPK-qjA"
      },
      "source": [
        "\n",
        "Definindo uma rota raiz (\"/\") para a página inicial:"
      ]
    },
    {
      "cell_type": "code",
      "execution_count": 5,
      "metadata": {
        "id": "gQ8XIb3e-xn-"
      },
      "outputs": [],
      "source": [
        "@app.route(\"/\") #code to assign HomePage URL in our app to function home.\n",
        "\n",
        "def home():\n",
        "  '''\n",
        "  The entire line below must be written in a single line.\n",
        "  '''\n",
        "  return \"<marquee><h3> TO CHECK IN PUT ADD '/input' TO THE URL AND TO CHECK OUT PUT ADD '/output' TO THE URL.</h3></marquee>\""
      ]
    },
    {
      "cell_type": "markdown",
      "metadata": {
        "id": "eFcHpfPA-2II"
      },
      "source": [
        "Definindo uma rota /input:"
      ]
    },
    {
      "cell_type": "code",
      "execution_count": 6,
      "metadata": {
        "id": "RhOB_8NI-3x2"
      },
      "outputs": [],
      "source": [
        "@app.route(\"/input\") #code to assign Input URL in our app to function input.\n",
        "\n",
        "def input():\n",
        "  return jsonify(d) # \"d\" is the dictionary we defined"
      ]
    },
    {
      "cell_type": "markdown",
      "metadata": {
        "id": "rriUTGIR-9gf"
      },
      "source": [
        "Definindo uma rota /output e implementa uma função chamada newJson para lidar com solicitações para essa rota:"
      ]
    },
    {
      "cell_type": "code",
      "execution_count": null,
      "metadata": {
        "id": "leQIwJoF_Aal"
      },
      "outputs": [],
      "source": [
        "@app.route('/output', methods=['GET','POST']) #output page\n",
        "\n",
        "def newJson():\n",
        " pred = r.choice([\"positive\",\"negative\"])\n",
        " nd = d # our input\n",
        " nd[\"prediction\"]=pred\n",
        " return jsonify(nd)\n",
        "\n",
        "app.run()"
      ]
    }
  ]
}